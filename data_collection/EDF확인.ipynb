{
 "cells": [
  {
   "cell_type": "code",
   "execution_count": 4,
   "metadata": {},
   "outputs": [],
   "source": [
    "import pandas as pd\n",
    "df= pd.read_csv(\"../datasets/머튼모형 데이터/EDF06302대1비율.csv\", encoding=\"cp949\")\n",
    "dff=pd.read_csv(\"../datasets/코스닥상장폐지(최종295개사).csv\", encoding=\"cp949\")\n",
    "a=dff[\"거래소코드\"].tolist()\n",
    "mask = df[\"거래소코드\"].isin(a)\n",
    "marcap=df[mask]"
   ]
  },
  {
   "cell_type": "code",
   "execution_count": 6,
   "metadata": {},
   "outputs": [],
   "source": [
    "marcap.to_csv(\"../datasets/폐지사 EDF2대1 확인.csv\", encoding=\"cp949\", index=False)"
   ]
  },
  {
   "cell_type": "code",
   "execution_count": null,
   "metadata": {},
   "outputs": [],
   "source": [
    "dff=pd.read_csv(\"../datasets/코스닥상장폐지(최종295개사).csv\", encoding=\"cp949\")"
   ]
  },
  {
   "cell_type": "code",
   "execution_count": 9,
   "metadata": {},
   "outputs": [],
   "source": [
    "marcaps=marcap.groupby([\"거래소코드\",\"연도\"])[[\"EDF\"]].mean()\n",
    "marcaps.reset_index(inplace=True)\n",
    "marcaps.to_csv(\"폐지사 연도별 EDF평균.csv\", encoding=\"cp949\", index=False)"
   ]
  },
  {
   "cell_type": "code",
   "execution_count": null,
   "metadata": {},
   "outputs": [],
   "source": []
  }
 ],
 "metadata": {
  "interpreter": {
   "hash": "b3ba2566441a7c06988d0923437866b63cedc61552a5af99d1f4fb67d367b25f"
  },
  "kernelspec": {
   "display_name": "Python 3.9.7 ('base')",
   "language": "python",
   "name": "python3"
  },
  "language_info": {
   "codemirror_mode": {
    "name": "ipython",
    "version": 3
   },
   "file_extension": ".py",
   "mimetype": "text/x-python",
   "name": "python",
   "nbconvert_exporter": "python",
   "pygments_lexer": "ipython3",
   "version": "3.9.7"
  },
  "orig_nbformat": 4
 },
 "nbformat": 4,
 "nbformat_minor": 2
}
